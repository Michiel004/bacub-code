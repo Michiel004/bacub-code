{
 "cells": [
  {
   "cell_type": "code",
   "execution_count": 13,
   "metadata": {},
   "outputs": [
    {
     "name": "stdout",
     "output_type": "stream",
     "text": [
      "ZM-k@Q__I&)fxT-QzzVXp-V$PoYOdjo@bsZM(27T9xa^NCfjTIwR$1Oi-SG@OdqH^UARxYm-x8l1slCAMO8!o(jvsrBiYWez-YT(Qb_!A$B)g&O&VyE(o%$PwHjgTG$4QZ5EWw7ishI4aYTCSlxPPB@SLf(jL_kH2FTv@Dvu2VtfNaAb5_o^(ew7Tbjce3c9568zu1EP$vjhI2AoHk-5s&4@ZZq0OMRxGrOA25K7DJiB4*GmTiLhut5@$(Iul4w)0beGNnopyU)k3_ANxO3WLPPvqeil2Dvq4)u^2Ls@Gxx!^9uFREKP@Z1^T@YAR8-4ri!5N-#PPh&XmS5(0E$3b%K-Cz*PzjqZsWjF8rNgD!wghkky70hCS1X@5a8A^gb7u0K8LPpiMVQ&X$qQvyRCoLWP45L$KaJrJd5^i(PbrogWiL_UZn)ahCygpyo6#50dFkJ4g0)ClYq9itnB1vkcUhYhU$*cUYIQ-l*mKl0rb*TWT2bVcZHMGSk&bM$JZyy08o%Iz9md0x%e%6W-1PpiH#)Fgn2TtY1bT@PMvP!@wbep@A1dhZ1MoQ#q01PY8$FNQBX)#zMXwA(0xG!wbS-(m7TJ@Tz_Tphdv0)W$TmRxeGo5Ur9&Ne@&CeF^fAsNf-FbOG%EXLXM9ucgj-6^I&DPImGfLVLhY9R$X8K6GOw__)NhE1*cwNX)t8(37nrgNHadsqPdEatF@45M-GVz!81lMa@kB$EUtoJot^uMjldD9sAsOTbt#66XeSGebqg^83r)yPOx9v4gshgc23wKV7kVZ2f!*Ima1lsbPfIZRYs2VPQ!2o%MjL2&3Lz9Ewo^K9su!Kt$EJwdiIq@!E-iK6#oGpJkD9amuJ%Uje)3t9AqJIlhwpVv#qqTy-3SNW(&380J5mNjVH#P!VCIUtuTRfefKjY@YAcJIhSqs*0YqX7BDNIfQrcZe7bQAMV@z$I5L*%Z(!*AHraPCQ8eu(o3iEfjCf%ztVQ4h_&&BM!y6$OJB81AJzd^zyKoGgecl5A%SO9(b5(4PGB00cX%%@_%eH8IW5#R4LJLiMDy-%a8Wk00F0tgjTiHKf-l%iZ8UCn6@t%dqWEO$pb0n&68xUgo$Lk#m8lwGxTrI%!uOXhYh&#pFq91H92aFvXd(n@fF9(4R$ayuIT35^U1kXqeqMbiU^3$4kqvCP@P!_wP(MVWehh_M4FxseEFAq$s8%I!e0i8i&Oo_uIvLquV^(7g-r$kzYt#DE9Se0%NR5DOA7HqtD3FiNLCohytAXxNIdSpcrUvv)GOt*noKo_TI)Pcu@rg-E^nQmWJ)dxDkg*woseq*6kRAwAwNUn0*Mo7icBg&Xn_sN)j%yBKl-@z8UsDG1RTvPaoUxtBt9&uzXBwPsZ-pWO2m)1EAgK6J39CqiW8t81zg#-Inzuh5hwfU#JBrPdf(w^c_IKDSXDs1fdJYt&_HOf_nzzTnC&PTm$lym7eDl7QKAoxmQ!#kABVdVcIFkOj2B&Zp6Ituo&v2#BJ#2uY1SJ4pEhP-)iwcsO@rbPhbIY-oYt2no0tmWOwfa1rzOiHRL7V0nR!OeHHVvQUT^H2DiOvUtmaV#xODGm-GfoizpvbSLEd7cdI)Hq%XzWK%)2!If_I%rB^qTmQn4zrJQfZC5ABveAci1mL9R7Gkjw35HZq!jDdEWl_CX0pmWzSxhSss0uxDc_OpAIs2KSLwJ-AIJqTvtg*JXZDNAZXSYGS99sSnWukhHdi*(#ZkB1Fzu(VZa$U1(E3Bmd9Mu-96fH(RfTNkCB%eoZBd3m!^8(i!ZQjEWZXl869-UbNK@8YCvZc-E)1%e&KbUljJNAt2F%AiRWLM8d66HDfmdCtVsgkiLMsjL_RmC-ZBpCH9l$qVtb*&Ml5_Pyz52UG16S9t!5*3lHgU4G0!)pPUh(qZh@kWIqQRmb$VTWyGy8P_XybR#^9iv4#fmXZQ&@cB3)6ypddJTGSQO2R8qlA2wI!(lumQi!QU6rAePjWXV4HuwifC59GYfow0P$M-79oWdNBninjKVJqgPbBMcs_1%Xslb^LrQaRDlR75THOm*Mjhp)vnIUHu1ZwTsV$jGY2ZmED0Py58UeTD5)uAV0zG^&^gJ*#V7uUW@XXjvQL3mt&JparnbV#XX#%sWRI3KOfcZ)sKK-AS@IuOirllQ49(#3TeCW&dSn_-iDGa5ZzK6HqrPm(Ts_puDk)BZ*b@X(f46iA^1ufYsh_$G4_1S#(9Si-NxBQO#cuERMi4K4FfK3AS7o_p)R2@7*ZgoP^w56B2O(RtBVvO$PP(-572@_ysPC$lDRmif!kaM%)P4P-wX!-*C_&iN&5fkvO^onITNLqh7gNH(GbHS)viYuGC_k9!HTP^6cCI9dRO)KS2#4MIQL0^kQNC&#s^&i9$95Acc1pdb@Eholmya8ZDl-ic##1(O4pQxZFO_!wVGa!CQx!^TXS-6xV^hULC7cf3f9)lx-t&!nc7qiIo@DOoDv$ztF2wb0OK0wQ0A^*Bf*XY6WR6B8Gpczc(h&qWQfvEDs1UG!ugL3OI4DmM%Nm5osmG5Bx_Mq4_Mv&@-(NPdwv_nXwX0d1Z68u@oa2r#bITA(aGf9lE(I#S8v8$)$io9@b#W&4&M-C@Tz7N3NuzYy7WKhmhY%TOzYe3Y9Bv#SmWt_@FhK*ip^#Hl^6h4X_H(iyH_S_jbgLQMyJnqu-Hpzphy5n6^y!U5!IvAataGHYf7SYaNsv5c!ZJ1$AmRdijdzQuW2DSl3&AbYp8CtN0X!MBd^x_Tk3dNXtfv@QlMrX49fLA4pQnKR5)VYyM_KsRk-u#e46eH4uaoOLn!(#Dg!zgplZ-HErDsJxbI@c4x*lYfyL_EKFxl(aAT91E0NDAEc7!6Hs(EOyx%rJr9OUUwN&lzrRVNA4znh05csSfSxQJuGKF^c4R%PG@ouUttvCdb(OaJ@7zzo%OWSpr1qmwm^TWXu&iUf*kVvhfW3wg@s2%ad$q#_)kRZ7-6f6ukYD*$CRY_01@l6I9tUB9^ffUqL@btFu1#3qk0peDjuLdwY3gH%46cA5Hv0WN!sihi5hwl!!_$VgP7vnIy-WUt&L^()FxD8Kqbn$!STdQ^iI5b2lSo9c0pb*6AvAIpX^GA&4_xVH0a2nd4pdTJ-QCnfK&_7xGWR#*Ky57laqmksU7Pk#*eRHUr&s_mYIU(TW*%5hqBfIhyVh9l7keoKl%pG_))VTVTLJ-o_)t2khzU#&EN%u7$VLQIFm*beFG8UdDCW5!W1#Be5)wDUpM*uD@bx8fpQLtphuF287!Z5nlIT6_e(bxRn1dGi6i7#P$HFTgUJm(2@$@OXwuCKrI)ImsaDT#WxPQvh6a_%Jzv-5kXn^UQKl*JbgdI1ONgO%#Olvei*a3PfB(ng6)F8wgOL_u(xN#Ft0-U71Jq%nsFmAnp)GJXQoGjI8%WH8SrnsN@HAl%2AplpljxT0-2ww@7GAkuK%*4c-B#VS6bTZESfnDQV*lxras6j0T5%-V*Eiag%_aZWk5^p^fXa-bYu5@ylkS(Hb2u)u$EenzLq-%hDEMAN0E29XeQ8Ng7_9XSpWOGvIDzh%n7L_d*xC^2LQVOq6yZOk@*KW0AY(WU0JojNmUFh3-X3V4R3T2wie-jmBmRTCw)B-Fgud&K9dKOM6mdOnz%yy^X0HHNT#_P$Ftb6lE1s9Sd^-8TMVB8!KtfHiofVMIVSRrI_RXv6C)-rj(0akw2cMdmd)Go*Xt9Gsp$l#t&mUiuH9ppRc8^t%%Dlydd)QvACA80Q%u-p!TsM#SEBc2-SMbI!a2Ds(RaREhiEz)(jZht#um$DB93-wnti279f3uyQCaYs!2DVngj!W&I3C)Q5G619CJqbXD5%#ZdTsN3jcwvE8VMOhx7XllZt!DLC&QUzAFQsnk0Qi(604BG#$X!MvYN^qX*Cm_aptcCU)KNx-LUc6PwYimbiHlN2Zmtx63bHIvGdzU_X^si_%xADNUxU14_-(bJVPpxgm*M$o#c9aP0zAZMqWpm*-cofszbIapJ^h-zsAXiK97Q!IvNBJCWmv$^mmm0j7yEYYq-#)*kzVZZTEBodAcv8uyDOs$TTf5_)JMHqDyvKPXqc0jRz#n%MSIrMePF7$Wy*vZ5#KIbE3YF*lnAc4HIrS_IaGbhV^k#dnBG3k%Qj2x@pnaTVeb)3a)J2-(kK8b8vuph1b2XgP#AM&bUaUfKhMC$$e5BCB7n(QcI6VwWaGH2@IX!YLe58Tcs6!n7Ydyy_zW!P2z$7ttM9rcFEl1-_4sw08ydFzCyU%Jox)xHQ6P&-0X5_M%N)ACSWgggX1%BGs-odn5iiqm2LzrG-tG9A3bABnr2JDG1KDO8eIQNV!aV5_hvAayoud$tXMF%)2JjA%-^xE%gG3he8837wVpe)pcTfdkDY4FdIqzd*Qb0!r^rH_OGA0Jo5HaYn@zaJ1-JGgYVt9Iu)pnSG8gyQj-qb4POJ*IqkipkSqTT^w%Zz-WalPm8NumjC(99Fwy2Z(76P4Eq^T90J@YQA!yQIDd*z#K#$8P$D8fz4SmQJY%ZI%#ZEtkkyt_6)@orX4rct*kf*c2rSsa!9-%aAy#$$hEazCxkz$ZthPt9D2BYw&YxtiUrTPzzd#&qxH%w7)WrkVUbYnxjEQ9SDN!-u(d_Yn4I!Ykv__1py8ji9Qj)LlTU!LfRbtpKvt*VnWZa7K81Y1w%nfZK!ABru2f7^N**FmgG#2O3KdtWApezGKl3$5x-h6)L7&^2lGZ1%KlU2sWX_RHki%SmmLZn!9(bk*56%4)H#ROIeYhE-Wkx%n@0X(D^LHgeq2ue)81WntF^b)dP&HDKZsGfNoyJbZstVzl4!pL!3j7ObLzi7c%GB%n1&GCuDs_lZ51zgEJ4sMP$^B45qKiCLNeSC7ZTUcn0peY-cs3*BqLwBq4IduWiAcaEu(%IBv58cUzd^8j-&SWIgK_hTZ69fKbEN!2iYSKkeK(AE*wMOwnABT)XBShfrb2RVVF!KvhYO3pb*4G2vzQLy*qmjcCwZ\n"
     ]
    }
   ],
   "source": [
    "import os, random, string\n",
    "\n",
    "length = 5000\n",
    "chars = string.ascii_letters + string.digits + '!@#$%^&*()_-'\n",
    "##random.seed = (os.urandom(1024))\n",
    "print (''.join(random.choice(chars) for i in range(length)))"
   ]
  },
  {
   "cell_type": "code",
   "execution_count": null,
   "metadata": {},
   "outputs": [],
   "source": []
  },
  {
   "cell_type": "code",
   "execution_count": null,
   "metadata": {},
   "outputs": [],
   "source": []
  }
 ],
 "metadata": {
  "kernelspec": {
   "display_name": "Python 3",
   "language": "python",
   "name": "python3"
  },
  "language_info": {
   "codemirror_mode": {
    "name": "ipython",
    "version": 3
   },
   "file_extension": ".py",
   "mimetype": "text/x-python",
   "name": "python",
   "nbconvert_exporter": "python",
   "pygments_lexer": "ipython3",
   "version": "3.6.5"
  }
 },
 "nbformat": 4,
 "nbformat_minor": 2
}
